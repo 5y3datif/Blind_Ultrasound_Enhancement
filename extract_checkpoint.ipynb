{
  "nbformat": 4,
  "nbformat_minor": 0,
  "metadata": {
    "colab": {
      "provenance": []
    },
    "kernelspec": {
      "name": "python3",
      "display_name": "Python 3"
    },
    "language_info": {
      "name": "python"
    }
  },
  "cells": [
    {
      "cell_type": "code",
      "execution_count": null,
      "metadata": {
        "id": "EGoH1-Hkdpwi"
      },
      "outputs": [],
      "source": [
        "import zipfile\n",
        "import os\n",
        "\n",
        "# Define the path to the first part of the split ZIP file\n",
        "# Assuming the files are named like 'my_archive.zip', 'my_archive.z01', 'my_archive.z02', etc.\n",
        "first_part_path = 'best_checkpoint.zip'\n",
        "\n",
        "# Define the destination directory for extraction\n",
        "destination_directory = 'checkpoints'\n",
        "\n",
        "# Create the destination directory if it doesn't exist\n",
        "os.makedirs(destination_directory, exist_ok=True)\n",
        "\n",
        "try:\n",
        "    # Open the first part of the split ZIP archive\n",
        "    with zipfile.ZipFile(first_part_path, 'r') as zip_ref:\n",
        "        # Extract all contents to the specified destination directory\n",
        "        zip_ref.extractall(destination_directory)\n",
        "    print(f\"Split ZIP file '{first_part_path}' successfully extracted to '{destination_directory}'.\")\n",
        "except FileNotFoundError:\n",
        "    print(f\"Error: The first part of the ZIP file '{first_part_path}' was not found.\")\n",
        "except zipfile.BadZipFile:\n",
        "    print(f\"Error: The ZIP file '{first_part_path}' is corrupted or not a valid ZIP archive.\")\n",
        "except Exception as e:\n",
        "    print(f\"An unexpected error occurred: {e}\")"
      ]
    }
  ]
}